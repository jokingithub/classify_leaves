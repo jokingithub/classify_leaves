{
 "cells": [
  {
   "cell_type": "code",
   "id": "initial_id",
   "metadata": {
    "tags": [],
    "ExecuteTime": {
     "end_time": "2024-08-10T08:52:12.582161Z",
     "start_time": "2024-08-10T08:52:04.088199Z"
    }
   },
   "source": [
    "import pandas as pd\n",
    "from torch.utils.data import Dataset, DataLoader\n",
    "import torchvision\n",
    "from torchvision import transforms\n",
    "import torch\n",
    "import torch.nn as nn\n",
    "import torch.nn.functional as F\n",
    "import numpy as np\n",
    "import PIL.Image as Image\n",
    "import matplotlib.pyplot as plt\n",
    "from sklearn.model_selection import train_test_split, StratifiedKFold\n",
    "import os\n",
    "import cv2\n",
    "import timm\n",
    "\n",
    "import albumentations\n",
    "from albumentations import pytorch as AT\n",
    "\n",
    "#below are all from https://github.com/seefun/TorchUtils, thanks seefun to provide such useful tools\n",
    "import torch_utils as tu\n"
   ],
   "outputs": [
    {
     "name": "stderr",
     "output_type": "stream",
     "text": [
      "D:\\Anaconda\\envs\\CL\\Lib\\site-packages\\torch_utils\\models\\cls_models\\simple_cls_model.py:55: FutureWarning: `torch.cuda.amp.autocast(args...)` is deprecated. Please use `torch.amp.autocast('cuda', args...)` instead.\n",
      "  @autocast()\n",
      "D:\\Anaconda\\envs\\CL\\Lib\\site-packages\\torch_utils\\models\\seg_models\\unet.py:355: FutureWarning: `torch.cuda.amp.autocast(args...)` is deprecated. Please use `torch.amp.autocast('cuda', args...)` instead.\n",
      "  @ autocast()\n"
     ]
    }
   ],
   "execution_count": 1
  },
  {
   "cell_type": "markdown",
   "id": "2e94faf1471a66b3",
   "metadata": {},
   "source": [
    "## 加载数据集"
   ]
  },
  {
   "cell_type": "code",
   "id": "5e881cc80b2a7350",
   "metadata": {
    "ExecuteTime": {
     "end_time": "2024-08-10T08:52:12.611333Z",
     "start_time": "2024-08-10T08:52:12.582161Z"
    }
   },
   "source": [
    "CLEAN_DATASET = 0\n",
    "FOLD = 5\n",
    "csv = pd.read_csv('train.csv') \n",
    "sfolder = StratifiedKFold(n_splits=FOLD,random_state=709,shuffle=True)\n",
    "train_folds = []\n",
    "val_folds = []\n",
    "for train_idx, val_idx in sfolder.split(csv['image'], csv['label']):\n",
    "  train_folds.append(train_idx)\n",
    "  val_folds.append(val_idx)\n",
    "  print(len(train_idx), len(val_idx))"
   ],
   "outputs": [
    {
     "name": "stdout",
     "output_type": "stream",
     "text": [
      "14682 3671\n",
      "14682 3671\n",
      "14682 3671\n",
      "14683 3670\n",
      "14683 3670\n"
     ]
    }
   ],
   "execution_count": 2
  },
  {
   "cell_type": "code",
   "id": "8f27ba1c6b8a79c",
   "metadata": {
    "ExecuteTime": {
     "end_time": "2024-08-10T08:52:12.615178Z",
     "start_time": "2024-08-10T08:52:12.611333Z"
    }
   },
   "source": [
    "labelmap_list = sorted(list(set(csv['label']))) #sorting is necessary to reproduce the order of the labelmap\n",
    "labelmap = dict()\n",
    "for i, label in enumerate(labelmap_list):\n",
    "  labelmap[label] = i\n",
    "print(labelmap)"
   ],
   "outputs": [
    {
     "name": "stdout",
     "output_type": "stream",
     "text": [
      "{'abies_concolor': 0, 'abies_nordmanniana': 1, 'acer_campestre': 2, 'acer_ginnala': 3, 'acer_griseum': 4, 'acer_negundo': 5, 'acer_palmatum': 6, 'acer_pensylvanicum': 7, 'acer_platanoides': 8, 'acer_pseudoplatanus': 9, 'acer_rubrum': 10, 'acer_saccharinum': 11, 'acer_saccharum': 12, 'aesculus_flava': 13, 'aesculus_glabra': 14, 'aesculus_hippocastamon': 15, 'aesculus_pavi': 16, 'ailanthus_altissima': 17, 'albizia_julibrissin': 18, 'amelanchier_arborea': 19, 'amelanchier_canadensis': 20, 'amelanchier_laevis': 21, 'asimina_triloba': 22, 'betula_alleghaniensis': 23, 'betula_jacqemontii': 24, 'betula_lenta': 25, 'betula_nigra': 26, 'betula_populifolia': 27, 'broussonettia_papyrifera': 28, 'carpinus_betulus': 29, 'carpinus_caroliniana': 30, 'carya_cordiformis': 31, 'carya_glabra': 32, 'carya_ovata': 33, 'carya_tomentosa': 34, 'castanea_dentata': 35, 'catalpa_bignonioides': 36, 'catalpa_speciosa': 37, 'cedrus_atlantica': 38, 'cedrus_deodara': 39, 'cedrus_libani': 40, 'celtis_occidentalis': 41, 'celtis_tenuifolia': 42, 'cercidiphyllum_japonicum': 43, 'cercis_canadensis': 44, 'chamaecyparis_pisifera': 45, 'chamaecyparis_thyoides': 46, 'chionanthus_retusus': 47, 'chionanthus_virginicus': 48, 'cladrastis_lutea': 49, 'cornus_florida': 50, 'cornus_kousa': 51, 'cornus_mas': 52, 'crataegus_crus-galli': 53, 'crataegus_laevigata': 54, 'crataegus_phaenopyrum': 55, 'crataegus_pruinosa': 56, 'crataegus_viridis': 57, 'cryptomeria_japonica': 58, 'diospyros_virginiana': 59, 'eucommia_ulmoides': 60, 'evodia_daniellii': 61, 'fagus_grandifolia': 62, 'ficus_carica': 63, 'fraxinus_nigra': 64, 'fraxinus_pennsylvanica': 65, 'ginkgo_biloba': 66, 'gleditsia_triacanthos': 67, 'gymnocladus_dioicus': 68, 'halesia_tetraptera': 69, 'ilex_opaca': 70, 'juglans_cinerea': 71, 'juglans_nigra': 72, 'juniperus_virginiana': 73, 'koelreuteria_paniculata': 74, 'larix_decidua': 75, 'liquidambar_styraciflua': 76, 'liriodendron_tulipifera': 77, 'maclura_pomifera': 78, 'magnolia_acuminata': 79, 'magnolia_denudata': 80, 'magnolia_grandiflora': 81, 'magnolia_macrophylla': 82, 'magnolia_stellata': 83, 'magnolia_tripetala': 84, 'magnolia_virginiana': 85, 'malus_baccata': 86, 'malus_coronaria': 87, 'malus_floribunda': 88, 'malus_hupehensis': 89, 'malus_pumila': 90, 'metasequoia_glyptostroboides': 91, 'morus_alba': 92, 'morus_rubra': 93, 'nyssa_sylvatica': 94, 'ostrya_virginiana': 95, 'oxydendrum_arboreum': 96, 'paulownia_tomentosa': 97, 'phellodendron_amurense': 98, 'picea_abies': 99, 'picea_orientalis': 100, 'picea_pungens': 101, 'pinus_bungeana': 102, 'pinus_cembra': 103, 'pinus_densiflora': 104, 'pinus_echinata': 105, 'pinus_flexilis': 106, 'pinus_koraiensis': 107, 'pinus_nigra': 108, 'pinus_parviflora': 109, 'pinus_peucea': 110, 'pinus_pungens': 111, 'pinus_resinosa': 112, 'pinus_rigida': 113, 'pinus_strobus': 114, 'pinus_sylvestris': 115, 'pinus_taeda': 116, 'pinus_thunbergii': 117, 'pinus_virginiana': 118, 'pinus_wallichiana': 119, 'platanus_acerifolia': 120, 'platanus_occidentalis': 121, 'populus_deltoides': 122, 'populus_grandidentata': 123, 'populus_tremuloides': 124, 'prunus_pensylvanica': 125, 'prunus_sargentii': 126, 'prunus_serotina': 127, 'prunus_serrulata': 128, 'prunus_subhirtella': 129, 'prunus_virginiana': 130, 'prunus_yedoensis': 131, 'pseudolarix_amabilis': 132, 'ptelea_trifoliata': 133, 'pyrus_calleryana': 134, 'quercus_acutissima': 135, 'quercus_alba': 136, 'quercus_bicolor': 137, 'quercus_cerris': 138, 'quercus_coccinea': 139, 'quercus_imbricaria': 140, 'quercus_macrocarpa': 141, 'quercus_marilandica': 142, 'quercus_michauxii': 143, 'quercus_montana': 144, 'quercus_muehlenbergii': 145, 'quercus_nigra': 146, 'quercus_palustris': 147, 'quercus_phellos': 148, 'quercus_robur': 149, 'quercus_shumardii': 150, 'quercus_stellata': 151, 'quercus_velutina': 152, 'quercus_virginiana': 153, 'robinia_pseudo-acacia': 154, 'salix_babylonica': 155, 'salix_caroliniana': 156, 'salix_matsudana': 157, 'salix_nigra': 158, 'sassafras_albidum': 159, 'staphylea_trifolia': 160, 'stewartia_pseudocamellia': 161, 'styrax_japonica': 162, 'taxodium_distichum': 163, 'tilia_americana': 164, 'tilia_cordata': 165, 'tilia_europaea': 166, 'tilia_tomentosa': 167, 'tsuga_canadensis': 168, 'ulmus_americana': 169, 'ulmus_glabra': 170, 'ulmus_parvifolia': 171, 'ulmus_procera': 172, 'ulmus_pumila': 173, 'ulmus_rubra': 174, 'zelkova_serrata': 175}\n"
     ]
    }
   ],
   "execution_count": 3
  },
  {
   "cell_type": "code",
   "id": "48f046ce73e1c07c",
   "metadata": {
    "ExecuteTime": {
     "end_time": "2024-08-10T08:52:12.619266Z",
     "start_time": "2024-08-10T08:52:12.615178Z"
    }
   },
   "source": [
    "class LeavesDataset(Dataset):\n",
    "  def __init__(self, csv, transform=None):\n",
    "    self.csv = csv\n",
    "    self.transform = transform\n",
    "  \n",
    "  def __len__(self):\n",
    "    return len(self.csv['image'])\n",
    "  \n",
    "  def __getitem__(self, idx):\n",
    "    img = cv2.imread(self.csv['image'][idx])\n",
    "    img = cv2.cvtColor(img, cv2.COLOR_BGR2RGB)\n",
    "    label = labelmap[self.csv['label'][idx]]\n",
    "    if self.transform:\n",
    "      img = self.transform(image = img)['image']\n",
    "    return img, torch.tensor(label).type(torch.LongTensor)\n",
    "\n",
    "def create_dls(train_csv, test_csv, train_transform, test_transform, bs, num_workers):\n",
    "  train_ds = LeavesDataset(train_csv, train_transform)\n",
    "  test_ds = LeavesDataset(test_csv, test_transform)\n",
    "  train_dl = DataLoader(train_ds, batch_size=bs, shuffle=True, num_workers=num_workers, drop_last=True)\n",
    "  test_dl = DataLoader(test_ds, batch_size=bs, shuffle=False, num_workers=num_workers, drop_last=False)\n",
    "  return train_dl, test_dl, len(train_ds), len(test_ds)"
   ],
   "outputs": [],
   "execution_count": 4
  },
  {
   "cell_type": "code",
   "id": "ceba3ec90aae3d65",
   "metadata": {
    "ExecuteTime": {
     "end_time": "2024-08-10T08:52:12.624485Z",
     "start_time": "2024-08-10T08:52:12.619266Z"
    }
   },
   "source": [
    "train_transform1 = albumentations.Compose([\n",
    "    albumentations.Resize(112, 112, interpolation=cv2.INTER_AREA),\n",
    "    albumentations.RandomRotate90(p=0.5),\n",
    "    albumentations.Transpose(p=0.5),\n",
    "    albumentations.Flip(p=0.5),\n",
    "    albumentations.ShiftScaleRotate(shift_limit=0.0625, scale_limit=0.0625, rotate_limit=45, border_mode=1, p=0.5),\n",
    "    #tu.randAugment(N=2,M=6,p=1,cut_out=True),    \n",
    "    albumentations.Normalize(),\n",
    "    AT.ToTensorV2(),\n",
    "    ])\n",
    "    \n",
    "test_transform1 = albumentations.Compose([\n",
    "    albumentations.Resize(112, 112, interpolation=cv2.INTER_AREA),\n",
    "    albumentations.Normalize(),\n",
    "    AT.ToTensorV2(),\n",
    "    ])"
   ],
   "outputs": [],
   "execution_count": 5
  },
  {
   "cell_type": "markdown",
   "id": "b089f1ab07acaab",
   "metadata": {},
   "source": [
    "## 测试数据集"
   ]
  },
  {
   "cell_type": "code",
   "id": "fdfd8f139cb0e2c6",
   "metadata": {
    "ExecuteTime": {
     "end_time": "2024-08-10T08:52:12.629011Z",
     "start_time": "2024-08-10T08:52:12.624485Z"
    }
   },
   "source": [
    "class LeavesTestDataset(Dataset):\n",
    "  def __init__(self, csv, transform=None):\n",
    "    self.csv = csv\n",
    "    self.transform = transform\n",
    "  \n",
    "  def __len__(self):\n",
    "    return len(self.csv['image'])\n",
    "  \n",
    "  def __getitem__(self, idx):\n",
    "    img = Image.open(self.csv['image'][idx])\n",
    "    if self.transform:\n",
    "      img = self.transform(img)\n",
    "    return img\n",
    "\n",
    "def create_testdls(test_csv, test_transform, bs):\n",
    "  test_ds = LeavesTestDataset(test_csv, test_transform)\n",
    "  test_dl = DataLoader(test_ds, batch_size=bs, shuffle=False, num_workers=2)\n",
    "  return test_dl\n",
    "\n",
    "transform_test = transforms.Compose([\n",
    "        transforms.Resize((112,112)),\n",
    "        transforms.ToTensor(),\n",
    "        transforms.Normalize((0.485, 0.456, 0.406), (0.229, 0.224, 0.225)),\n",
    "    ])"
   ],
   "outputs": [],
   "execution_count": 6
  },
  {
   "cell_type": "code",
   "id": "7ef2307b6c1688f7",
   "metadata": {
    "ExecuteTime": {
     "end_time": "2024-08-10T08:52:12.632123Z",
     "start_time": "2024-08-10T08:52:12.629011Z"
    }
   },
   "source": [
    "def show_img(x):\n",
    "  trans = transforms.ToPILImage()\n",
    "  mean = torch.tensor([0.485, 0.456, 0.406]).view(3,1,1)\n",
    "  std = torch.tensor([0.229, 0.224, 0.225]).view(3,1,1)\n",
    "  x = (x*std)+mean\n",
    "  x_pil = trans(x)\n",
    "  return x_pil"
   ],
   "outputs": [],
   "execution_count": 7
  },
  {
   "cell_type": "markdown",
   "id": "6e7a10e20d16c5ef",
   "metadata": {},
   "source": [
    "## Show images with the first fold data"
   ]
  },
  {
   "cell_type": "code",
   "id": "6a52e3f714b95b08",
   "metadata": {
    "ExecuteTime": {
     "end_time": "2024-08-10T08:52:12.637313Z",
     "start_time": "2024-08-10T08:52:12.632123Z"
    }
   },
   "source": [
    "train_csv = csv.iloc[train_folds[0]].reset_index()\n",
    "val_csv = csv.iloc[val_folds[0]].reset_index()"
   ],
   "outputs": [],
   "execution_count": 8
  },
  {
   "cell_type": "code",
   "id": "3e503848060d601f",
   "metadata": {
    "ExecuteTime": {
     "end_time": "2024-08-10T08:52:12.641313Z",
     "start_time": "2024-08-10T08:52:12.637313Z"
    }
   },
   "source": "train_dl, val_dl, n_train, n_val = create_dls(train_csv, val_csv, train_transform=train_transform1, test_transform=test_transform1, bs=64, num_workers=4)",
   "outputs": [],
   "execution_count": 9
  },
  {
   "cell_type": "code",
   "id": "97f7673a40521d22",
   "metadata": {
    "ExecuteTime": {
     "end_time": "2024-08-10T08:52:12.644040Z",
     "start_time": "2024-08-10T08:52:12.641313Z"
    }
   },
   "source": [
    "print(len(train_dl.dataset))"
   ],
   "outputs": [
    {
     "name": "stdout",
     "output_type": "stream",
     "text": [
      "14682\n"
     ]
    }
   ],
   "execution_count": 10
  },
  {
   "cell_type": "code",
   "id": "488cf5187c605f5",
   "metadata": {
    "ExecuteTime": {
     "end_time": "2024-08-10T08:52:37.793954Z",
     "start_time": "2024-08-10T08:52:12.644040Z"
    }
   },
   "source": [
    "import tqdm\n",
    "with tqdm.tqdm(total=len(train_dl)) as pbar:  \n",
    "    for x, y in train_dl:  \n",
    "        pbar.update(1)"
   ],
   "outputs": [
    {
     "name": "stderr",
     "output_type": "stream",
     "text": [
      "100%|██████████| 229/229 [00:25<00:00,  9.11it/s]\n"
     ]
    }
   ],
   "execution_count": 11
  },
  {
   "cell_type": "code",
   "id": "4e8a53e39db4b508",
   "metadata": {
    "ExecuteTime": {
     "end_time": "2024-08-10T08:52:37.801104Z",
     "start_time": "2024-08-10T08:52:37.793954Z"
    }
   },
   "source": [
    "y.shape"
   ],
   "outputs": [
    {
     "data": {
      "text/plain": [
       "torch.Size([64])"
      ]
     },
     "execution_count": 12,
     "metadata": {},
     "output_type": "execute_result"
    }
   ],
   "execution_count": 12
  },
  {
   "cell_type": "code",
   "id": "466357f16e4add21",
   "metadata": {
    "ExecuteTime": {
     "end_time": "2024-08-10T08:52:37.820153Z",
     "start_time": "2024-08-10T08:52:37.801104Z"
    }
   },
   "source": [
    "show_img((x[2]))"
   ],
   "outputs": [
    {
     "data": {
      "text/plain": [
       "<PIL.Image.Image image mode=RGB size=112x112>"
      ],
      "image/png": "[encoded data removed]",
      "image/jpeg": "[encoded data removed]"
     },
     "execution_count": 13,
     "metadata": {},
     "output_type": "execute_result"
    }
   ],
   "execution_count": 13
  },
  {
   "cell_type": "code",
   "id": "306b83df1953f57d",
   "metadata": {
    "ExecuteTime": {
     "end_time": "2024-08-10T08:52:37.827271Z",
     "start_time": "2024-08-10T08:52:37.820153Z"
    }
   },
   "source": [
    "show_img((x[3]))"
   ],
   "outputs": [
    {
     "data": {
      "text/plain": [
       "<PIL.Image.Image image mode=RGB size=112x112>"
      ],
      "image/png": "[encoded data removed]",
      "image/jpeg": "[encoded data removed]"
     },
     "execution_count": 14,
     "metadata": {},
     "output_type": "execute_result"
    }
   ],
   "execution_count": 14
  },
  {
   "cell_type": "markdown",
   "id": "c5098f0c79a2fed6",
   "metadata": {},
   "source": [
    "## Model\n",
    "# Define the model. We use the pretrained model either from timm or torchvision. "
   ]
  },
  {
   "cell_type": "code",
   "id": "7b089caf2f77d36a",
   "metadata": {
    "ExecuteTime": {
     "end_time": "2024-08-10T08:52:38.032233Z",
     "start_time": "2024-08-10T08:52:37.827271Z"
    }
   },
   "source": [
    "weight_path = './resnet50d_ra2-464e36ba.pth'    # 从下载链接下载其使用的预训练权重到本地\n",
    "model = timm.create_model('resnet50d', pretrained=False)"
   ],
   "outputs": [],
   "execution_count": 15
  },
  {
   "cell_type": "code",
   "id": "db90072f4d04bc4d",
   "metadata": {
    "ExecuteTime": {
     "end_time": "2024-08-10T08:52:38.105461Z",
     "start_time": "2024-08-10T08:52:38.032233Z"
    }
   },
   "source": [
    "# 加载权重  使用torch.load方法加载本地文件\n",
    "model.load_state_dict(torch.load(weight_path, weights_only=True))"
   ],
   "outputs": [
    {
     "data": {
      "text/plain": [
       "<All keys matched successfully>"
      ]
     },
     "execution_count": 16,
     "metadata": {},
     "output_type": "execute_result"
    }
   ],
   "execution_count": 16
  },
  {
   "cell_type": "code",
   "id": "d83aca4cead5c273",
   "metadata": {
    "ExecuteTime": {
     "end_time": "2024-08-10T08:52:38.113742Z",
     "start_time": "2024-08-10T08:52:38.105461Z"
    }
   },
   "source": [
    "model.fc = nn.Linear(model.fc.in_features, len(labelmap_list))\n",
    "nn.init.xavier_uniform_(model.fc.weight);"
   ],
   "outputs": [],
   "execution_count": 17
  },
  {
   "cell_type": "code",
   "id": "57902fb73991a488",
   "metadata": {
    "ExecuteTime": {
     "end_time": "2024-08-10T08:52:38.239760Z",
     "start_time": "2024-08-10T08:52:38.117756Z"
    }
   },
   "source": [
    "model.cuda()\n",
    "device = 'cuda'"
   ],
   "outputs": [],
   "execution_count": 18
  },
  {
   "cell_type": "code",
   "id": "611ff64a80b04633",
   "metadata": {
    "ExecuteTime": {
     "end_time": "2024-08-10T08:52:38.242667Z",
     "start_time": "2024-08-10T08:52:38.239760Z"
    }
   },
   "source": [
    "# 检查torch cuda是否正确安装\n",
    "print(torch.__version__)\n",
    "print(torch.cuda.is_available())"
   ],
   "outputs": [
    {
     "name": "stdout",
     "output_type": "stream",
     "text": [
      "2.4.0\n",
      "True\n"
     ]
    }
   ],
   "execution_count": 19
  },
  {
   "cell_type": "markdown",
   "id": "9ef748644e065537",
   "metadata": {},
   "source": [
    "# Optimizer, loss\n"
   ]
  },
  {
   "cell_type": "code",
   "id": "49e9cb3daf671fbe",
   "metadata": {
    "ExecuteTime": {
     "end_time": "2024-08-10T08:52:38.246250Z",
     "start_time": "2024-08-10T08:52:38.242667Z"
    }
   },
   "source": [
    "class LabelSmoothing(nn.Module):\n",
    "    \"\"\"\n",
    "    分类任务的损失函数，即带有标签平滑的负对数似然损失\n",
    "    标签平滑是一种正则化技术，旨在提高模型的泛化能力\n",
    "    通过减少对硬标签（即完全确定的标签）的依赖，并引入对模型不确定性的考虑\n",
    "    在一定程度上解决模型可能会过拟合的问题\n",
    "    \"\"\"\n",
    "    def __init__(self, smoothing=0.0):\n",
    "        super(LabelSmoothing, self).__init__()\n",
    "        self.confidence = 1.0 - smoothing\n",
    "        self.smoothing = smoothing\n",
    "\n",
    "    def forward(self, x, target):\n",
    "        # 前向传播计算负对数似然损失\n",
    "        logprobs = torch.nn.functional.log_softmax(x, dim=-1)\n",
    "        nll_loss = -logprobs.gather(dim=-1, index=target.unsqueeze(1))\n",
    "        nll_loss = nll_loss.squeeze(1)\n",
    "        smooth_loss = -logprobs.mean(dim=-1)\n",
    "        loss = self.confidence * nll_loss + self.smoothing * smooth_loss\n",
    "        return loss.mean()"
   ],
   "outputs": [],
   "execution_count": 20
  },
  {
   "cell_type": "code",
   "id": "e1f26ba9f6fb0c98",
   "metadata": {
    "ExecuteTime": {
     "end_time": "2024-08-10T08:52:38.249981Z",
     "start_time": "2024-08-10T08:52:38.246250Z"
    }
   },
   "source": [
    "params_1x = [param for name, param in model.named_parameters()\n",
    "             if name not in [\"fc.weight\", \"fc.bias\"]]\n",
    "lr = 5e-4\n",
    "\n",
    "optimizer = torch.optim.AdamW([{'params': params_1x},\n",
    "                                   {'params': model.fc.parameters(),\n",
    "                                    'lr': lr * 10}],\n",
    "                                lr=lr, weight_decay=0.001) #finetuning\n",
    "'''\n",
    "from optim import RangerLars\n",
    "optimizer = RangerLars([{'params': params_1x},\n",
    "                        {'params': model.fc.parameters(),\n",
    "                                    'lr': lr * 10}], lr=lr, weight_decay=0.001)\n",
    "'''\n",
    "#optimizer = torch.optim.AdamW(model.parameters(), lr=lr, weight_decay=0.001)\n",
    "\n",
    "loss_fn = LabelSmoothing(0.1)"
   ],
   "outputs": [],
   "execution_count": 21
  },
  {
   "cell_type": "markdown",
   "id": "f02e354d9447c468",
   "metadata": {},
   "source": [
    "# Find the LR"
   ]
  },
  {
   "cell_type": "code",
   "id": "4d5f4bf3410545f9",
   "metadata": {
    "ExecuteTime": {
     "end_time": "2024-08-10T08:52:38.255959Z",
     "start_time": "2024-08-10T08:52:38.250987Z"
    }
   },
   "source": [
    "import math\n",
    "import matplotlib.pyplot as plt\n",
    "import numpy as np\n",
    "\n",
    "def find_lr(model, factor, train_dl, optimizer, loss_fn, device, init_lr=1e-8, final_lr=1e-1, beta=0.98, plot=True, save_dir=None):\n",
    "    num = len(train_dl) - 1\n",
    "    mult = (final_lr / init_lr) ** (1/num)\n",
    "    lr = init_lr\n",
    "    optimizer.param_groups[0]['lr'] = lr\n",
    "    avg_loss = 0.\n",
    "    best_loss = 0.\n",
    "    batch_num = 0\n",
    "    losses = []\n",
    "    log_lrs = []\n",
    "    scaler = torch.cuda.amp.GradScaler() # for AMP training \n",
    "\n",
    "    if 1:\n",
    "      for x, y in train_dl:\n",
    "          x, y = x.to(device), y.to(device)\n",
    "          batch_num += 1\n",
    "          optimizer.zero_grad()\n",
    "          with torch.cuda.amp.autocast():\n",
    "            out = model(x)\n",
    "            loss = loss_fn(out, y)\n",
    "          #smoothen the loss\n",
    "          avg_loss = beta * avg_loss + (1-beta) * loss.data.item() #check\n",
    "          smoothed_loss = avg_loss / (1 - beta**batch_num) #bias correction\n",
    "          #stop if loss explodes\n",
    "          if batch_num > 1 and smoothed_loss > 4 * best_loss: #prevents explosion\n",
    "              break\n",
    "          #record the best loss\n",
    "          if smoothed_loss < best_loss or batch_num == 1:\n",
    "              best_loss = smoothed_loss\n",
    "          #store the values\n",
    "          losses.append(smoothed_loss)\n",
    "          log_lrs.append(math.log10(lr))\n",
    "          #do the sgd step\n",
    "          #loss.backward()\n",
    "          #optimizer.step()\n",
    "          scaler.scale(loss).backward()\n",
    "          scaler.step(optimizer)\n",
    "          scaler.update()\n",
    "          #update the lr for the next step\n",
    "          lr *= mult\n",
    "          optimizer.param_groups[0]['lr'] = lr\n",
    "    #Suggest a learning rate\n",
    "    log_lrs, losses = np.array(log_lrs), np.array(losses)\n",
    "    idx_min = np.argmin(losses)\n",
    "    min_log_lr = log_lrs[idx_min]\n",
    "    lr_auto = (10 ** (min_log_lr)) /factor\n",
    "    if plot:\n",
    "        selected = [np.argmin(np.abs(log_lrs - (min_log_lr-1)))] #highlight the suggested lr\n",
    "        plt.figure()\n",
    "        plt.plot(log_lrs, losses,'-gD', markevery=selected)\n",
    "        plt.xlabel('log_lrs')\n",
    "        plt.ylabel('loss')\n",
    "        plt.title('LR Range Test')\n",
    "        if save_dir is not None:\n",
    "            plt.savefig(f'{save_dir}/lr_range_test.png')\n",
    "        else:\n",
    "            plt.savefig(f'lr_range_test.png')\n",
    "    return lr_auto"
   ],
   "outputs": [],
   "execution_count": 22
  },
  {
   "cell_type": "code",
   "id": "847c4611844ff359",
   "metadata": {
    "ExecuteTime": {
     "end_time": "2024-08-10T08:52:38.260128Z",
     "start_time": "2024-08-10T08:52:38.255959Z"
    }
   },
   "source": [
    "def get_learner(lr, nb, epochs, model_name='resnet50d', MIXUP=0.1):\n",
    "  mixup_fn = tu.Mixup(prob=MIXUP, switch_prob=0.0, onehot=True, label_smoothing=0.05, num_classes=len(labelmap_list))\n",
    "  \n",
    "  # 改为从本地加载\n",
    "  model = timm.create_model(model_name, pretrained=False)\n",
    "  model.load_state_dict(torch.load(weight_path, weights_only=True))\n",
    "  \n",
    "  model.fc = nn.Linear(model.fc.in_features, len(labelmap_list))\n",
    "  nn.init.xavier_uniform_(model.fc.weight)\n",
    "  model.cuda()\n",
    "\n",
    "  params_1x = [param for name, param in model.named_parameters()\n",
    "              if name not in [\"fc.weight\", \"fc.bias\"]]\n",
    "\n",
    "  optimizer = torch.optim.AdamW([{'params': params_1x},\n",
    "                                    {'params': model.fc.parameters(),\n",
    "                                      'lr': lr*10}],\n",
    "                                  lr=lr, weight_decay=2e-4)\n",
    "\n",
    "  loss_fn = tu.SoftTargetCrossEntropy() if MIXUP else LabelSmoothing(0.1)\n",
    "  loss_fn_test = F.cross_entropy\n",
    "\n",
    "  import math\n",
    "  def warmup_one_cycle(y1=0.0, y2=1.0, steps=100, warmup_steps=0): #no warmup is better experimentally\n",
    "          #sinusoidal ramp from y1 to y2 https://arxiv.org/pdf/1812.01187.pdf\n",
    "          return lambda x: x / warmup_steps if x < warmup_steps \\\n",
    "                          else ((1 - math.cos((x-warmup_steps) * math.pi / steps)) / 2) * (y2 - y1) + y1\n",
    "\n",
    "  lf = warmup_one_cycle(1, 0.2, epochs*nb, 3*nb)\n",
    "  #lr_scheduler = torch.optim.lr_scheduler.LambdaLR(optimizer, lr_lambda=lf) \n",
    "    #lr_scheduler = torch.optim.lr_scheduler.CosineAnnealingWarmRestarts(optimizer, T_0=5*nb, eta_min=lr_suggested/100)\n",
    "\n",
    "  lr_scheduler = torch.optim.lr_scheduler.CosineAnnealingLR(optimizer, T_max=epochs*nb, eta_min=lr/20)\n",
    "  return model, optimizer, loss_fn, loss_fn_test, lr_scheduler, mixup_fn"
   ],
   "outputs": [],
   "execution_count": 23
  },
  {
   "cell_type": "markdown",
   "id": "fe849f9989c37e8d",
   "metadata": {},
   "source": [
    "# Train"
   ]
  },
  {
   "cell_type": "code",
   "id": "870c584ef8a0faaf",
   "metadata": {
    "ExecuteTime": {
     "end_time": "2024-08-10T08:52:38.263628Z",
     "start_time": "2024-08-10T08:52:38.260128Z"
    }
   },
   "source": [
    "import torch  \n",
    "  \n",
    "# 检查CUDA是否可用  \n",
    "if torch.cuda.is_available():  \n",
    "    device = torch.device(\"cuda\")  \n",
    "    print(\"Running on GPU\")  \n",
    "else:  \n",
    "    device = torch.device(\"cpu\")  \n",
    "    print(\"Running on CPU\") "
   ],
   "outputs": [
    {
     "name": "stdout",
     "output_type": "stream",
     "text": [
      "Running on GPU\n"
     ]
    }
   ],
   "execution_count": 24
  },
  {
   "cell_type": "code",
   "id": "ab37ea301c1bef8",
   "metadata": {
    "tags": [],
    "ExecuteTime": {
     "end_time": "2024-08-10T09:11:16.349477Z",
     "start_time": "2024-08-10T09:10:44.310993Z"
    }
   },
   "source": [
    "# Start training\n",
    "import time\n",
    "from tqdm import tqdm\n",
    "import ttach as tta\n",
    "device = 'cuda'\n",
    "save_dir = './classfication_model'\n",
    "#map from idx to string\n",
    "labelmap_inverse = dict()\n",
    "for key_ in labelmap.keys():\n",
    "  labelmap_inverse[labelmap[key_]] = key_\n",
    "EPOCHS = 50\n",
    "MIXUP = 0.1\n",
    " \n",
    "scaler = torch.cuda.amp.GradScaler() # for AMP training \n",
    "\n",
    "for fold in range(FOLD):\n",
    "  print(f'Start Fold{fold}...')\n",
    "\n",
    "  # 每一个fold加载不同的数据集，用于后面综合五个权重得到泛化能力更好的模型\n",
    "  train_csv = csv.iloc[train_folds[fold]].reset_index()\n",
    "  val_csv = csv.iloc[val_folds[fold]].reset_index()\n",
    "  train_dl, val_dl, n_train, n_val = create_dls(train_csv, val_csv, train_transform=train_transform1, test_transform=test_transform1, bs=64, num_workers=4)\n",
    "  model, optimizer, loss_fn, loss_fn_test, lr_scheduler, mixup_fn = get_learner(3e-4, len(train_dl), EPOCHS, model_name='resnet50d', MIXUP=MIXUP)\n",
    "  model_name = f'5fold_test_fold{fold}'\n",
    "  train_losses = [] \n",
    "  val_losses = []\n",
    "  train_accus = []\n",
    "  val_accus = []\n",
    "  best_accu = 0\n",
    "  best_loss = float('inf')\n",
    "  lrs = []\n",
    "  for epoch in range(EPOCHS):\n",
    "          t1 = time.time()\n",
    "          val_accu = 0\n",
    "          train_accu = 0\n",
    "          train_losses_tmp = []\n",
    "          #Train\n",
    "          model.train()\n",
    "          t_inf = 0\n",
    "          for x, y in train_dl:\n",
    "              if MIXUP:\n",
    "                x, y = mixup_fn(x, y)\n",
    "              x, y = x.to(device), y.to(device)\n",
    "              #Forward\n",
    "              with torch.cuda.amp.autocast():\n",
    "                pred = model(x)\n",
    "                loss = loss_fn(pred, y)\n",
    "              #Backward\n",
    "              #loss.backward()\n",
    "              #optimizer.step()\n",
    "              scaler.scale(loss).backward()\n",
    "              scaler.step(optimizer)\n",
    "              scaler.update()\n",
    "              lr_scheduler.step()\n",
    "              optimizer.zero_grad()\n",
    "              #Statistics\n",
    "              lrs.append(optimizer.param_groups[0]['lr']) #group 0,1,2 share the learning rate\n",
    "              train_losses_tmp.append(loss.data.item())\n",
    "              pred_labels = torch.argmax(pred.data, dim=1)\n",
    "              y_labels = torch.argmax(y.data, dim=1) if MIXUP else y.data\n",
    "              train_accu += (pred_labels==y_labels).float().sum()\n",
    "\n",
    "          t_inf /= len(train_dl)\n",
    "          train_losses.append(np.mean(np.array(train_losses_tmp)))\n",
    "          train_accu /= n_train\n",
    "          train_accus.append(train_accu.data.item())\n",
    "\n",
    "          t2 = time.time()\n",
    "          #Validation\n",
    "          val_losses_tmp = []\n",
    "          model.eval()\n",
    "          with torch.no_grad():\n",
    "            for x, y in val_dl:\n",
    "                x, y = x.to(device), y.to(device)\n",
    "                logit = model(x)\n",
    "                val_loss = loss_fn_test(logit, y) \n",
    "                val_losses_tmp.append(val_loss.data.item())\n",
    "                pred = torch.argmax(logit.data, dim=1)\n",
    "                val_accu += (pred==y.data).float().sum()\n",
    "          t3 = time.time()\n",
    "          val_loss = np.mean(np.array(val_losses_tmp))\n",
    "          val_losses.append(val_loss)\n",
    "          val_accu /= n_val\n",
    "          val_accus.append(val_accu.data.item())\n",
    "          print('fold', fold, 'epoch', epoch, 'train_loss', train_losses[epoch], 'val_loss', val_losses[epoch], 'val_accu', val_accu, 'train_accu', train_accu, 'train time', t2-t1, 'val time', t3-t2, 'lr[0]', lrs[-1])\n",
    "          if save_dir is not None:\n",
    "              if val_accu == best_accu:\n",
    "                  if val_loss < best_loss: #never satisfied\n",
    "                      checkpoint = {\"model\": model.state_dict()}\n",
    "                      torch.save(checkpoint, os.path.join(save_dir,f'{model_name}_best.pth'))\n",
    "                      print(f'Stored a new best model in {save_dir}')\n",
    "                      best_loss = val_loss\n",
    "              elif val_accu > best_accu:\n",
    "                  checkpoint = {\"model\": model.state_dict()}\n",
    "                  torch.save(checkpoint, os.path.join(save_dir,f'{model_name}_best.pth'))\n",
    "                  print(f'Stored a new best model in {save_dir}')\n",
    "                  best_accu = val_accu\n",
    "              '''\n",
    "              if epoch == EPOCHS - 1:\n",
    "                  checkpoint = {\"model\": model.state_dict()}\n",
    "                  torch.save(checkpoint, os.path.join(save_dir,f'{model_name}_last.pth'))\n",
    "                  print(f'Stored the last model in {save_dir}')\n",
    "              '''\n",
    "  # test time\n",
    "  test_csv = pd.read_csv('test.csv')\n",
    "  test_dl = create_testdls(test_csv, transform_test, bs=8)\n",
    "  model.eval()\n",
    "  tta_model = tta.ClassificationTTAWrapper(model, tta.aliases.flip_transform(),  merge_mode='mean')\n",
    "  tta_model.eval()\n",
    "  res = []\n",
    "  for x in test_dl:\n",
    "      x = x.to(device)\n",
    "      logit = tta_model(x)\n",
    "      pred = torch.argmax(logit.data, dim=1).cpu().numpy()\n",
    "      for i in range(len(pred)):\n",
    "          res.append(labelmap_inverse[pred[i]])\n",
    "  test_csv.insert(1, 'label', res)\n",
    "  test_csv.to_csv((f'submission_e50{model_name}_fold{fold}.csv'), index=False)\n",
    "  print('test cvs is saved')"
   ],
   "outputs": [
    {
     "name": "stderr",
     "output_type": "stream",
     "text": [
      "C:\\Users\\Eligah\\AppData\\Local\\Temp\\ipykernel_9620\\3847396346.py:14: FutureWarning: `torch.cuda.amp.GradScaler(args...)` is deprecated. Please use `torch.amp.GradScaler('cuda', args...)` instead.\n",
      "  scaler = torch.cuda.amp.GradScaler() # for AMP training\n"
     ]
    },
    {
     "name": "stdout",
     "output_type": "stream",
     "text": [
      "Start Fold0...\n"
     ]
    },
    {
     "name": "stderr",
     "output_type": "stream",
     "text": [
      "C:\\Users\\Eligah\\AppData\\Local\\Temp\\ipykernel_9620\\3847396346.py:45: FutureWarning: `torch.cuda.amp.autocast(args...)` is deprecated. Please use `torch.amp.autocast('cuda', args...)` instead.\n",
      "  with torch.cuda.amp.autocast():\n"
     ]
    },
    {
     "name": "stdout",
     "output_type": "stream",
     "text": [
      "fold 0 epoch 0 train_loss 2.3804831858805695 val_loss 0.8001003537712426 val_accu tensor(0.7753, device='cuda:0') train_accu tensor(0.5128, device='cuda:0') train time 27.40842843055725 val time 4.251707315444946 lr[0] 0.0002997188088010285\n"
     ]
    },
    {
     "ename": "RuntimeError",
     "evalue": "File ../best_model_path\\5fold_test_fold0_last.pth cannot be opened.",
     "output_type": "error",
     "traceback": [
      "\u001B[1;31m---------------------------------------------------------------------------\u001B[0m",
      "\u001B[1;31mRuntimeError\u001B[0m                              Traceback (most recent call last)",
      "Cell \u001B[1;32mIn[31], line 89\u001B[0m\n\u001B[0;32m     87\u001B[0m \u001B[38;5;28;01mif\u001B[39;00m val_accu \u001B[38;5;241m>\u001B[39m best_accu:\n\u001B[0;32m     88\u001B[0m     checkpoint \u001B[38;5;241m=\u001B[39m {\u001B[38;5;124mf\u001B[39m\u001B[38;5;124m\"\u001B[39m\u001B[38;5;132;01m{\u001B[39;00mmodel\u001B[38;5;241m.\u001B[39mstate_dict()\u001B[38;5;241m.\u001B[39mkeys()\u001B[38;5;132;01m}\u001B[39;00m\u001B[38;5;124m\"\u001B[39m: model\u001B[38;5;241m.\u001B[39mstate_dict()\u001B[38;5;241m.\u001B[39mvalues()}\n\u001B[1;32m---> 89\u001B[0m     torch\u001B[38;5;241m.\u001B[39msave(checkpoint, os\u001B[38;5;241m.\u001B[39mpath\u001B[38;5;241m.\u001B[39mjoin(model_path,\u001B[38;5;124mf\u001B[39m\u001B[38;5;124m'\u001B[39m\u001B[38;5;132;01m{\u001B[39;00mmodel_name\u001B[38;5;132;01m}\u001B[39;00m\u001B[38;5;124m_last.pth\u001B[39m\u001B[38;5;124m'\u001B[39m))\n\u001B[0;32m     90\u001B[0m     torch\u001B[38;5;241m.\u001B[39msave(model\u001B[38;5;241m.\u001B[39mstate_dict(), model_path)\n\u001B[0;32m     91\u001B[0m     \u001B[38;5;28mprint\u001B[39m(\u001B[38;5;124m'\u001B[39m\u001B[38;5;124mStored a best model with acc \u001B[39m\u001B[38;5;132;01m{:.3f}\u001B[39;00m\u001B[38;5;124m'\u001B[39m\u001B[38;5;241m.\u001B[39mformat(best_accu))\n",
      "File \u001B[1;32mD:\\Anaconda\\envs\\CL\\Lib\\site-packages\\torch\\serialization.py:651\u001B[0m, in \u001B[0;36msave\u001B[1;34m(obj, f, pickle_module, pickle_protocol, _use_new_zipfile_serialization, _disable_byteorder_record)\u001B[0m\n\u001B[0;32m    648\u001B[0m _check_save_filelike(f)\n\u001B[0;32m    650\u001B[0m \u001B[38;5;28;01mif\u001B[39;00m _use_new_zipfile_serialization:\n\u001B[1;32m--> 651\u001B[0m     \u001B[38;5;28;01mwith\u001B[39;00m _open_zipfile_writer(f) \u001B[38;5;28;01mas\u001B[39;00m opened_zipfile:\n\u001B[0;32m    652\u001B[0m         _save(obj, opened_zipfile, pickle_module, pickle_protocol, _disable_byteorder_record)\n\u001B[0;32m    653\u001B[0m         \u001B[38;5;28;01mreturn\u001B[39;00m\n",
      "File \u001B[1;32mD:\\Anaconda\\envs\\CL\\Lib\\site-packages\\torch\\serialization.py:525\u001B[0m, in \u001B[0;36m_open_zipfile_writer\u001B[1;34m(name_or_buffer)\u001B[0m\n\u001B[0;32m    523\u001B[0m \u001B[38;5;28;01melse\u001B[39;00m:\n\u001B[0;32m    524\u001B[0m     container \u001B[38;5;241m=\u001B[39m _open_zipfile_writer_buffer\n\u001B[1;32m--> 525\u001B[0m \u001B[38;5;28;01mreturn\u001B[39;00m container(name_or_buffer)\n",
      "File \u001B[1;32mD:\\Anaconda\\envs\\CL\\Lib\\site-packages\\torch\\serialization.py:496\u001B[0m, in \u001B[0;36m_open_zipfile_writer_file.__init__\u001B[1;34m(self, name)\u001B[0m\n\u001B[0;32m    494\u001B[0m     \u001B[38;5;28msuper\u001B[39m()\u001B[38;5;241m.\u001B[39m\u001B[38;5;21m__init__\u001B[39m(torch\u001B[38;5;241m.\u001B[39m_C\u001B[38;5;241m.\u001B[39mPyTorchFileWriter(\u001B[38;5;28mself\u001B[39m\u001B[38;5;241m.\u001B[39mfile_stream))\n\u001B[0;32m    495\u001B[0m \u001B[38;5;28;01melse\u001B[39;00m:\n\u001B[1;32m--> 496\u001B[0m     \u001B[38;5;28msuper\u001B[39m()\u001B[38;5;241m.\u001B[39m\u001B[38;5;21m__init__\u001B[39m(torch\u001B[38;5;241m.\u001B[39m_C\u001B[38;5;241m.\u001B[39mPyTorchFileWriter(\u001B[38;5;28mself\u001B[39m\u001B[38;5;241m.\u001B[39mname))\n",
      "\u001B[1;31mRuntimeError\u001B[0m: File ../best_model_path\\5fold_test_fold0_last.pth cannot be opened."
     ]
    }
   ],
   "execution_count": 31
  },
  {
   "cell_type": "code",
   "id": "b395820270bedc5",
   "metadata": {
    "ExecuteTime": {
     "end_time": "2024-08-10T08:53:16.199636Z",
     "start_time": "2024-08-10T08:53:16.199636Z"
    }
   },
   "source": [
    "plt.plot(train_accus)\n",
    "plt.plot(val_accus)\n",
    "plt.plot(train_losses)\n",
    "plt.plot(val_losses)\n",
    "plt.ylim(0, 1.3)\n",
    "plt.legend(['train_accus', 'val_accus', 'train_losses', 'val_losses'])\n",
    "#plt.show()\n",
    "plt.title('Learning Curve')\n",
    "plt.xlabel('epochs')\n",
    "\n",
    "plt.savefig(f'{model_name}_acc98d34.png')"
   ],
   "outputs": [],
   "execution_count": null
  },
  {
   "cell_type": "markdown",
   "id": "340d565f-d02e-47c0-8251-56abd00fd2d7",
   "metadata": {},
   "source": [
    "展示 lr_scheduler 动态调整学习率的效果"
   ]
  },
  {
   "cell_type": "code",
   "id": "3f4ad97f-078a-43df-bd72-501521f3c85e",
   "metadata": {},
   "source": [
    "plt.plot(lrs)"
   ],
   "outputs": [],
   "execution_count": null
  },
  {
   "cell_type": "markdown",
   "id": "e7773ab6-b841-4f18-9a09-36a5c996eab4",
   "metadata": {},
   "source": [
    "整合五个权重模型，对预测结果进行数学统计，以期望得到更准确的结果，进一步提高acc"
   ]
  },
  {
   "cell_type": "code",
   "id": "11429a03-768e-47c1-b731-2516add852cd",
   "metadata": {},
   "source": [
    "files = sorted(os.listdir('./'))\n",
    "files"
   ],
   "outputs": [],
   "execution_count": null
  },
  {
   "cell_type": "code",
   "id": "2fdc52a9-b2fc-451c-9fee-a19b883652b4",
   "metadata": {},
   "source": [
    "cvss_label = []\n",
    "for file in files:\n",
    "  if file.endswith('.csv') and file != 'test.csv' and file != 'train.csv' and file != 'sample_submission.csv':\n",
    "    print(file)\n",
    "    cvs_label = pd.read_csv(file)['label'].to_numpy()\n",
    "    cvss_label.append(cvs_label)\n",
    "cvss_label = np.array(cvss_label)\n",
    "cvss_label.shape"
   ],
   "outputs": [],
   "execution_count": null
  },
  {
   "cell_type": "code",
   "id": "b9fc1c7e-9377-4697-8004-babdf8d6d641",
   "metadata": {},
   "source": [
    "from collections import Counter\n",
    "final_label = []\n",
    "# 遍历每一列  \n",
    "for col in cvss_label.T:  # 使用.T来转置数组，这样每次迭代都是一列  \n",
    "    counter = Counter(col)  # 使用Counter统计每个元素的出现次数  \n",
    "    most_common = counter.most_common(1)  # 获取出现次数最多的一个元素及其计数  \n",
    "    final_label.append(most_common[0][0])  # 将该元素添加到结果列表中"
   ],
   "outputs": [],
   "execution_count": null
  },
  {
   "cell_type": "code",
   "id": "926d9e1b-a8f3-419e-9766-ae157d61274e",
   "metadata": {},
   "source": [
    "test_csv = pd.read_csv('test.csv')\n",
    "test_csv.head()"
   ],
   "outputs": [],
   "execution_count": null
  },
  {
   "cell_type": "code",
   "id": "2a85b414-cc28-41c7-9b79-45be59bd7eb9",
   "metadata": {},
   "source": [
    "test_csv.insert(1, 'label', final_label)\n",
    "test_csv.head()"
   ],
   "outputs": [],
   "execution_count": null
  },
  {
   "cell_type": "code",
   "id": "0fdc78f6-047f-4c45-b1b4-316e2c9c02b9",
   "metadata": {},
   "source": [
    "# 将结果列表转换为NumPy数组  \n",
    "final_label_list = np.array(final_label)  "
   ],
   "outputs": [],
   "execution_count": null
  },
  {
   "cell_type": "code",
   "id": "2b048c70-7fd0-4065-971f-65ed9c0208f5",
   "metadata": {},
   "source": [
    "print(final_label_list)"
   ],
   "outputs": [],
   "execution_count": null
  },
  {
   "cell_type": "code",
   "id": "46381434-9d12-42ea-93d7-df1b5c251e78",
   "metadata": {},
   "source": [
    "test_csv.to_csv(os.path.join(\"../classify_leaves\",'ensemble5_e50.csv'), index=False)"
   ],
   "outputs": [],
   "execution_count": null
  },
  {
   "cell_type": "code",
   "id": "1ff5de14-52e9-45cf-8d22-c0a3c3674aba",
   "metadata": {},
   "source": [],
   "outputs": [],
   "execution_count": null
  }
 ],
 "metadata": {
  "kernelspec": {
   "display_name": "Python 3 (ipykernel)",
   "language": "python",
   "name": "python3"
  },
  "language_info": {
   "codemirror_mode": {
    "name": "ipython",
    "version": 3
   },
   "file_extension": ".py",
   "mimetype": "text/x-python",
   "name": "python",
   "nbconvert_exporter": "python",
   "pygments_lexer": "ipython3",
   "version": "3.10.12"
  }
 },
 "nbformat": 4,
 "nbformat_minor": 5
}
